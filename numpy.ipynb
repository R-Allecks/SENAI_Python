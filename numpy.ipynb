{
  "nbformat": 4,
  "nbformat_minor": 0,
  "metadata": {
    "colab": {
      "private_outputs": true,
      "provenance": [],
      "authorship_tag": "ABX9TyNv046MzAHQJko1WUnlghxj",
      "include_colab_link": true
    },
    "kernelspec": {
      "name": "python3",
      "display_name": "Python 3"
    },
    "language_info": {
      "name": "python"
    }
  },
  "cells": [
    {
      "cell_type": "markdown",
      "metadata": {
        "id": "view-in-github",
        "colab_type": "text"
      },
      "source": [
        "<a href=\"https://colab.research.google.com/github/R-Allecks/SENAI_Python/blob/main/numpy.ipynb\" target=\"_parent\"><img src=\"https://colab.research.google.com/assets/colab-badge.svg\" alt=\"Open In Colab\"/></a>"
      ]
    },
    {
      "cell_type": "code",
      "source": [
        "'''\n",
        "Estrutura da Função em Python\n",
        "def nome ():  ------> Exemplo: def teste(a;b): ou\n",
        "\n",
        "def test(a,b):\n",
        "return = a+b\n",
        "'''\n",
        "#Função zip\n",
        "nomes = ['Alice', 'Bob', 'Charlie']\n",
        "idades = [25, 30, 35]\n",
        "\n",
        "#combinado listas usando zip\n",
        "lista_combinada = list(zip(nomes,idades))\n",
        "print(lista_combinada)\n",
        "\n",
        "#Saída [('Alice', 25), ('Bob', 30), ('Charlie', 35)]"
      ],
      "metadata": {
        "id": "yBJ-vMr-CXBR"
      },
      "execution_count": null,
      "outputs": []
    },
    {
      "cell_type": "code",
      "execution_count": null,
      "metadata": {
        "id": "nlJzlSUsm1NL"
      },
      "outputs": [],
      "source": [
        "w1, w2, w3 = 0.3, 0.2, 0.5\n",
        "print(w1)\n",
        "print(w2)\n",
        "print(w3)\n",
        "\n",
        "#dados climaticos da região A\n",
        "regiaoA_temp = 22\n",
        "regiaoA_chuva = 67\n",
        "regiaoA_umid = 65\n",
        "\n",
        "w1, w2, w3 = 0.3, 0.2, 0.5\n",
        "print(w1)\n",
        "print(w2)\n",
        "print(w3)\n",
        "\n",
        "#dados climaticos da região A\n",
        "regiaoA_temp = 22\n",
        "regiaoA_chuva = 67\n",
        "regiaoA_umid = 65\n",
        "\n",
        "#Aplicando modelo\n",
        "regiaoA_goiaba = regiaoA_temp * w1 + regiaoA_chuva * w2 + regiaoA_umid * w3\n",
        "print(\"Na Região A a produção de {} toneladas por hectare\".format(regiaoA_goiaba))"
      ]
    },
    {
      "cell_type": "code",
      "source": [
        "#Definindo Dados da Região:\n",
        "regiaoA = [22, 67, 65]\n",
        "regiaoB = [24, 88, 95]\n",
        "regiaoC = [17, 134, 50]\n",
        "regiaoD = [18, 96, 70]\n",
        "\n",
        "#Pesos:\n",
        "pesos = [w1, w2, w3]\n",
        "\n",
        "#Criando a função :\n",
        "def produção_goiaba(regiao, pesos):\n",
        "  result = 0\n",
        "  for x, w, in zip(regiao, pesos):\n",
        "    result += x*w\n",
        "  return result\n",
        "\n",
        "#Produção da Região:\n",
        "print(\"Na Região A a produção de {} toneladas por hectare\" .format(produção_goiaba(regiaoA, pesos)))\n",
        "print(\"Na Região B a produção de {} toneladas por hectare\" .format(produção_goiaba(regiaoB, pesos)))\n",
        "print(\"Na Região C a produção de {} toneladas por hectare\" .format(produção_goiaba(regiaoC, pesos)))\n",
        "print(\"Na Região D a produção de {} toneladas por hectare\" .format(produção_goiaba(regiaoD, pesos)))"
      ],
      "metadata": {
        "id": "gQwWtrM2AmVh"
      },
      "execution_count": null,
      "outputs": []
    },
    {
      "cell_type": "code",
      "source": [
        "'''\n",
        "É possivel realizar este calculo de uma forma mais simples utilizando o NumPy. A biblioteca NumPy\n",
        "fornece uma função interna para calcular o produto de dois vetores. No entanto, devemos primeiro converter as listas em arrays do NumPy.\n",
        "\n",
        "# numpy.dot do NumPy realiza multiplicações matriciais e produtos internos de vetores.\n",
        "'''\n",
        "\n",
        "import numpy as np\n",
        "RegiaoA = np.array([22, 67, 65])\n",
        "print(type(RegiaoA))\n",
        "pesos = np.array([w1, w2, w3])\n",
        "\n",
        "print(type(pesos))\n"
      ],
      "metadata": {
        "id": "y5dY0wfrSBVd"
      },
      "execution_count": null,
      "outputs": []
    },
    {
      "cell_type": "code",
      "source": [
        "reg_a = np.dot(RegiaoA, pesos)\n",
        "print(\"Na Região A a produção de {} toneladas por hectare\" .format(reg_a))"
      ],
      "metadata": {
        "id": "2AzqQdQgXv18"
      },
      "execution_count": null,
      "outputs": []
    },
    {
      "cell_type": "code",
      "source": [
        "#Exemplo:\n",
        "\n",
        "#Lista em Python\n",
        "arr1 = list(range(2000000))\n",
        "arr2 = list(range(1000000, 3000000))\n",
        "\n",
        "#vetor em NumPy\n",
        "arr1_np = np.array(arr1)\n",
        "arr2_np = np.array(arr2)"
      ],
      "metadata": {
        "id": "MYPzLhauZ-a7"
      },
      "execution_count": null,
      "outputs": []
    },
    {
      "cell_type": "code",
      "source": [
        "%%time\n",
        "result = 0\n",
        "for x1, x2 in zip(arr1, arr2):\n",
        "  result += x1*x2\n",
        "print(result)"
      ],
      "metadata": {
        "id": "qTyGWPoubMH6"
      },
      "execution_count": null,
      "outputs": []
    },
    {
      "cell_type": "code",
      "source": [
        "%%time\n",
        "print(np.dot(arr1_np, arr2_np))"
      ],
      "metadata": {
        "id": "Ulosphagcpa5"
      },
      "execution_count": null,
      "outputs": []
    },
    {
      "cell_type": "code",
      "source": [
        "dados_climaticos = np.array([ [22,  67, 65],\n",
        "                              [24,  88, 95],\n",
        "                              [17, 134, 50],\n",
        "                              [18,  96, 70], ])\n",
        "print(dados_climaticos)\n"
      ],
      "metadata": {
        "id": "Uih14fZwdqIJ"
      },
      "execution_count": null,
      "outputs": []
    },
    {
      "cell_type": "code",
      "source": [
        "print(dados_climaticos.shape)\n",
        "print(pesos.shape)\n",
        "\n",
        "#3D array\n",
        "\n",
        "\n",
        "#Tipo dentro do Array\n",
        "print(dados_climaticos.dtype)\n",
        "print('____________')\n",
        "print(dados_climaticos.dtype)"
      ],
      "metadata": {
        "id": "u_wSzoEIgn85"
      },
      "execution_count": null,
      "outputs": []
    },
    {
      "cell_type": "code",
      "source": [
        "#função np.matmul ou o operador @.\n",
        "\n",
        "np.matmul(dados_climaticos, pesos)"
      ],
      "metadata": {
        "id": "YDSqKyfBjlmJ"
      },
      "execution_count": null,
      "outputs": []
    },
    {
      "cell_type": "code",
      "source": [
        "dados_climaticos @ pesos"
      ],
      "metadata": {
        "id": "nVKdS8RKj2oG"
      },
      "execution_count": null,
      "outputs": []
    },
    {
      "cell_type": "code",
      "source": [
        "import numpy as np\n",
        "goiaba_csv=np.genfromtxt('/content/goiaba.csv', delimiter=',')"
      ],
      "metadata": {
        "id": "-fo1D2lGRVHM"
      },
      "execution_count": null,
      "outputs": []
    },
    {
      "cell_type": "code",
      "source": [
        "goiaba_csv"
      ],
      "metadata": {
        "id": "gGA4_AqsR8j1"
      },
      "execution_count": null,
      "outputs": []
    },
    {
      "cell_type": "code",
      "source": [
        "pesos=np.array([0.4,0.2,0.8])"
      ],
      "metadata": {
        "id": "lOWkSrlWSBrE"
      },
      "execution_count": null,
      "outputs": []
    },
    {
      "cell_type": "code",
      "source": [
        "rendimento=goiaba_csv @ pesos"
      ],
      "metadata": {
        "id": "dGXY4lbeSLvV"
      },
      "execution_count": null,
      "outputs": []
    },
    {
      "cell_type": "code",
      "source": [
        "rendimento"
      ],
      "metadata": {
        "id": "h_ZxjamMSOwF"
      },
      "execution_count": null,
      "outputs": []
    },
    {
      "cell_type": "code",
      "source": [
        "#incluir resultado na região do array\n",
        "resultado = np.concatenate((goiaba_csv, rendimento.reshape(4, 1)), axis=1)"
      ],
      "metadata": {
        "id": "peqGF-mmSReU"
      },
      "execution_count": null,
      "outputs": []
    },
    {
      "cell_type": "code",
      "source": [
        "resultado"
      ],
      "metadata": {
        "id": "M8QKU3DATLmV"
      },
      "execution_count": null,
      "outputs": []
    },
    {
      "cell_type": "code",
      "source": [
        "#Agora é só salvar\n",
        "np.savetxt('goiaba_resultado.csv',\n",
        "           resultado,\n",
        "           fmt='%.2f',\n",
        "           delimiter=',',\n",
        "           header='temperatura, precipitação, umidde, rendimento',\n",
        "           comments='')"
      ],
      "metadata": {
        "id": "G2yNi-njUzu2"
      },
      "execution_count": null,
      "outputs": []
    }
  ]
}