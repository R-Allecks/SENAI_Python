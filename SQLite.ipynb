{
  "nbformat": 4,
  "nbformat_minor": 0,
  "metadata": {
    "colab": {
      "private_outputs": true,
      "provenance": [],
      "authorship_tag": "ABX9TyMxYhl0vVrfK26rPsYbVpXU",
      "include_colab_link": true
    },
    "kernelspec": {
      "name": "python3",
      "display_name": "Python 3"
    },
    "language_info": {
      "name": "python"
    }
  },
  "cells": [
    {
      "cell_type": "markdown",
      "metadata": {
        "id": "view-in-github",
        "colab_type": "text"
      },
      "source": [
        "<a href=\"https://colab.research.google.com/github/R-Allecks/SENAI_Python/blob/main/SQLite.ipynb\" target=\"_parent\"><img src=\"https://colab.research.google.com/assets/colab-badge.svg\" alt=\"Open In Colab\"/></a>"
      ]
    },
    {
      "cell_type": "code",
      "execution_count": null,
      "metadata": {
        "id": "CJAd1xQIjYx1"
      },
      "outputs": [],
      "source": [
        "import sqlite3"
      ]
    },
    {
      "cell_type": "code",
      "source": [
        "conn = sqlite3.connect('test.db')\n",
        "print(\"conexao aberta\")"
      ],
      "metadata": {
        "id": "VgfWiRpvjlZy"
      },
      "execution_count": null,
      "outputs": []
    },
    {
      "cell_type": "code",
      "source": [
        "conn.execute('''\n",
        "CREATE TABLE IF NOT EXISTS Empregado (\n",
        "  matrícula integer PRIMARY KEY AUTOINCREMENT,\n",
        "  NOME string,\n",
        "  CPF\n",
        "  );\n",
        "  ''')\n",
        "\n",
        "conn.commit()\n",
        "print(\"Tabela criada com sucesso\")"
      ],
      "metadata": {
        "id": "iFmiWBc9j2pz"
      },
      "execution_count": null,
      "outputs": []
    },
    {
      "cell_type": "code",
      "source": [
        "conn.execute(\"INSERT INTO Empregado VALUES(1,'THIAGO MEDEIROS',000)\")\n",
        "conn.execute(\"INSERT INTO Empregado VALUES(2,'MIGUEL MEDEIROS',111)\")\n",
        "conn.execute(\"INSERT INTO Empregado VALUES(3,'THALITA BARROS',222)\")\n",
        "conn.execute(\"INSERT INTO Empregado VALUES(4,'MARIA DE FATIMA',333)\")"
      ],
      "metadata": {
        "id": "Fi5Cc-rJkbkR"
      },
      "execution_count": null,
      "outputs": []
    },
    {
      "cell_type": "code",
      "source": [
        "cursor = conn.execute('''\n",
        "SELECT  NOME, CPF\n",
        "from EMPREGADO;\n",
        "''')"
      ],
      "metadata": {
        "id": "SxA8aQkYlIdZ"
      },
      "execution_count": null,
      "outputs": []
    },
    {
      "cell_type": "code",
      "source": [
        "for row in cursor:\n",
        "  print(row)"
      ],
      "metadata": {
        "id": "hDeAQt0zlW0k"
      },
      "execution_count": null,
      "outputs": []
    },
    {
      "cell_type": "code",
      "source": [
        "import pandas as pd\n",
        "\n",
        "qry = \"\"\"\n",
        "SELECT * FROM Empregado\n",
        "\"\"\"\n",
        "\n",
        "df = pd.read_sql_query(qry, conn)\n",
        "df.head()"
      ],
      "metadata": {
        "id": "TtRCoh3PmYFS"
      },
      "execution_count": null,
      "outputs": []
    },
    {
      "cell_type": "code",
      "source": [
        "import sqlite3\n",
        "conn = sqlite3.connect('test2.db')\n",
        "print(\"conexao aberta\")"
      ],
      "metadata": {
        "id": "Vy-XSW2dpf4p"
      },
      "execution_count": null,
      "outputs": []
    },
    {
      "cell_type": "code",
      "source": [
        "conn.execute('''\n",
        "CREATE TABLE IF NOT EXISTS DF (\n",
        "  CustomerID integer PRIMARY KEY,\n",
        "  NOME string\n",
        "  );\n",
        "''')\n",
        "conn.commit()\n",
        "print(\"Tabela criada com sucesso\")"
      ],
      "metadata": {
        "id": "Jf8o8jpQpJ2J"
      },
      "execution_count": null,
      "outputs": []
    },
    {
      "cell_type": "markdown",
      "source": [],
      "metadata": {
        "id": "7iXvBapJq1Uw"
      }
    },
    {
      "cell_type": "code",
      "source": [
        "conn.execute(\"INSERT INTO DF VALUES (1, 'Doe');\")\n",
        "conn.execute(\"INSERT INTO DF VALUES (2, 'Jo');\")\n",
        "conn.execute(\"INSERT INTO DF VALUES (3,'Tod');\")"
      ],
      "metadata": {
        "id": "2ivZ6FbdpSKy"
      },
      "execution_count": null,
      "outputs": []
    },
    {
      "cell_type": "code",
      "source": [
        "conn.commit()"
      ],
      "metadata": {
        "id": "t4LzY5o8r4LY"
      },
      "execution_count": null,
      "outputs": []
    },
    {
      "cell_type": "code",
      "source": [
        "import pandas as pd\n",
        "\n",
        "qry = \"\"\"\n",
        "SELECT * FROM DF\n",
        "\"\"\"\n",
        "\n",
        "df = pd.read_sql_query(qry, conn)\n",
        "df.head()"
      ],
      "metadata": {
        "id": "VOCG18FZsRtg"
      },
      "execution_count": null,
      "outputs": []
    },
    {
      "cell_type": "code",
      "source": [
        "import pandas as pd\n",
        "\n",
        "qry = \"\"\"\n",
        "SELECT * FROM DF LIMIT 2\n",
        "\"\"\"\n",
        "\n",
        "df = pd.read_sql_query(qry, conn)\n",
        "df.head()"
      ],
      "metadata": {
        "id": "WgTu0LMAtMiY"
      },
      "execution_count": null,
      "outputs": []
    }
  ]
}