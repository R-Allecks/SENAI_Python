{
  "nbformat": 4,
  "nbformat_minor": 0,
  "metadata": {
    "colab": {
      "private_outputs": true,
      "provenance": [],
      "authorship_tag": "ABX9TyNY51H6tBPcDNPFTghjwCKm",
      "include_colab_link": true
    },
    "kernelspec": {
      "name": "python3",
      "display_name": "Python 3"
    },
    "language_info": {
      "name": "python"
    }
  },
  "cells": [
    {
      "cell_type": "markdown",
      "metadata": {
        "id": "view-in-github",
        "colab_type": "text"
      },
      "source": [
        "<a href=\"https://colab.research.google.com/github/R-Allecks/SENAI_Python/blob/main/raspagem_de_dados_webscraping.ipynb\" target=\"_parent\"><img src=\"https://colab.research.google.com/assets/colab-badge.svg\" alt=\"Open In Colab\"/></a>"
      ]
    },
    {
      "cell_type": "code",
      "execution_count": null,
      "metadata": {
        "id": "SbFeoqQnxPP_"
      },
      "outputs": [],
      "source": [
        "#WEBSCRAPING\n",
        "\n",
        "import requests\n",
        "from bs4 import BeautifulSoup\n",
        "import pandas as pd\n",
        "\n",
        "#url para raspar os dados\n",
        "url = 'https://books.toscrape.com/index.html'\n",
        "\n",
        "#Fazer a requisição HTTP\n",
        "response = requests.get(url)"
      ]
    },
    {
      "cell_type": "code",
      "source": [
        "#Usar o beautifulSoup para parsear o conteudo (codifica HTML para Python)\n",
        "soup = BeautifulSoup(response.text, 'html.parser')"
      ],
      "metadata": {
        "id": "D_2rxTrhzU6X"
      },
      "execution_count": null,
      "outputs": []
    },
    {
      "cell_type": "code",
      "source": [
        "soup.select('article.product_pod')"
      ],
      "metadata": {
        "id": "crUwLDSn0E_E"
      },
      "execution_count": null,
      "outputs": []
    },
    {
      "cell_type": "code",
      "source": [
        "#Totalizar itens:\n",
        "len(soup.select('article.product_pod')) #Neste caso são 20 LIVROS no TOTAL"
      ],
      "metadata": {
        "id": "wFTvlBbf0vdR"
      },
      "execution_count": null,
      "outputs": []
    },
    {
      "cell_type": "code",
      "source": [
        "#Selecionar itens:\n",
        "soup.select('article.product_pod')[0] #Neste caso são 20 LIVROS no TOTAL"
      ],
      "metadata": {
        "id": "MmISECBv05eS"
      },
      "execution_count": null,
      "outputs": []
    },
    {
      "cell_type": "code",
      "source": [
        "#Totalizar itens:\n",
        "soup.select('article.product_pod')[0].h3.a['title'] #Neste caso são 20 LIVROS no TOTAL"
      ],
      "metadata": {
        "id": "pY7a5Mp61v5t"
      },
      "execution_count": null,
      "outputs": []
    },
    {
      "cell_type": "code",
      "source": [
        "#preço:\n",
        "soup.select('article.product_pod')[0].select_one('p.price_color').text #Neste caso são 20 LIVROS no TOTAL"
      ],
      "metadata": {
        "id": "l1oLv66t3ovI"
      },
      "execution_count": null,
      "outputs": []
    },
    {
      "cell_type": "code",
      "source": [
        "#preço:\n",
        "#Original: soup.select('article.product_pod')[0].select_one('p.instock availability').text\n",
        "#The original selector is likely incorrect. There's probably a space in the class name\n",
        "#and \"instock\" and \"availability\" are two separate classes.\n",
        "#Corrected:\n",
        "soup.select('article.product_pod')[0].select_one('p.instock.availability').text #Neste caso são 20 LIVROS no TOTAL"
      ],
      "metadata": {
        "id": "TkH-UjiD3tho"
      },
      "execution_count": null,
      "outputs": []
    },
    {
      "cell_type": "code",
      "source": [
        "star = soup.select('article.product_pod')[0].select_one('p.star-rating')\n",
        "star.get('class')[1]"
      ],
      "metadata": {
        "id": "jQwPjEpP4jW1"
      },
      "execution_count": null,
      "outputs": []
    },
    {
      "cell_type": "code",
      "source": [
        "#traduzir\n",
        "def traduzir_numero(numero_em_ingles):\n",
        "    traducoes = {\n",
        "        'one': 'um',\n",
        "        'two': 'dois',\n",
        "        'three': 'três',\n",
        "        'four': 'quatro',\n",
        "        'five': 'cinco'\n",
        "    }\n",
        "    #Retorna a tradução ou uma mensagem caso o numero não esteja no dicionario\n",
        "    return traducoes.get(numero_em_ingles.lower(), 'Número não encontrado')"
      ],
      "metadata": {
        "id": "tA9YdgrO5Y7E"
      },
      "execution_count": null,
      "outputs": []
    },
    {
      "cell_type": "code",
      "source": [
        "traduzir_numero(star.get('class')[1])"
      ],
      "metadata": {
        "id": "rd0PVHNm6ZQS"
      },
      "execution_count": null,
      "outputs": []
    },
    {
      "cell_type": "markdown",
      "source": [],
      "metadata": {
        "id": "VD7h276M2fRc"
      }
    },
    {
      "cell_type": "code",
      "source": [
        "# DESAFIO\n",
        "\n",
        "# URL  para raspar os dados\n",
        "url = 'https://books.toscrape.com/index.html'\n",
        "\n",
        "# fazer a requisição HTTP\n",
        "response = requests.get(url)"
      ],
      "metadata": {
        "id": "HAGQHM6dEdvu"
      },
      "execution_count": null,
      "outputs": []
    },
    {
      "cell_type": "code",
      "source": [
        "ls_titulo = []\n",
        "ls_preco = []\n",
        "ls_estoque = []\n",
        "ls_nota = []\n",
        "\n",
        "\n",
        "for book in soup.select('article.product_pod'):\n",
        "    ls_titulo.append(book.h3.a['title'])\n",
        "    ls_preco.append(book.select_one('p.price_color').text)\n",
        "    ls_estoque.append(book.select_one('p.instock.availability').text.strip())\n",
        "\n",
        "    # pegar estrela\n",
        "    star = book.select_one('p.star-rating')\n",
        "    ls_nota.append(traduzir_numero(star.get('class')[1]))\n",
        "\n",
        "pagina = pd.DataFrame({'titulo': ls_titulo,\n",
        "                       'preco': ls_preco,\n",
        "                       'estoque': ls_estoque,\n",
        "                       'nota': ls_nota\n",
        "})\n",
        "\n"
      ],
      "metadata": {
        "id": "y86eLMY4Erfw"
      },
      "execution_count": null,
      "outputs": []
    },
    {
      "cell_type": "code",
      "source": [
        "pagina.to_excel('book.xlsx')"
      ],
      "metadata": {
        "id": "d6i24zp7FCpO"
      },
      "execution_count": null,
      "outputs": []
    },
    {
      "cell_type": "code",
      "source": [
        "from google.colab import drive\n",
        "drive.mount('/content/drive')"
      ],
      "metadata": {
        "id": "a1ALrTAXFRGI"
      },
      "execution_count": null,
      "outputs": []
    },
    {
      "cell_type": "code",
      "source": [
        "# URL base para navegação\n",
        "url_base = 'https://books.toscrape.com/catalogue/'\n",
        "\n",
        "# Listas para armazenar os dados\n",
        "ls_titulo = []\n",
        "ls_preco = []\n",
        "ls_estoque = []\n",
        "ls_nota = []\n",
        "\n",
        "# Loop para percorrer todas as páginas\n",
        "pagina_atual = 1\n",
        "while True:\n",
        "    # URL da página atual\n",
        "    url = f'{url_base}page-{pagina_atual}.html'\n",
        "    response = requests.get(url)\n",
        "\n",
        "    # Verifica se a página existe\n",
        "    if response.status_code != 200:\n",
        "        print(f\"Fim das páginas na página {pagina_atual}.\")\n",
        "        break\n",
        "\n",
        "    # Faz a raspagem dos dados\n",
        "    soup = BeautifulSoup(response.text, 'html.parser')\n",
        "    for book in soup.select('article.product_pod'):\n",
        "        ls_titulo.append(book.h3.a['title'])\n",
        "        ls_preco.append(book.select_one('p.price_color').text)\n",
        "        ls_estoque.append(book.select_one('p.instock.availability').text.strip())\n",
        "\n",
        "        # Pegar a nota (estrelas)\n",
        "        star = book.select_one('p.star-rating')\n",
        "        ls_nota.append(traduzir_numero(star.get('class')[1].lower()))\n",
        "\n",
        "    print(f\"Página {pagina_atual} raspada.\")\n",
        "    pagina_atual += 1\n",
        "\n",
        "# Criar o DataFrame com os dados coletados\n",
        "pagina = pd.DataFrame({\n",
        "    'Titulo': ls_titulo,\n",
        "    'Preço': ls_preco,\n",
        "    'Estoque': ls_estoque,\n",
        "    'Nota': ls_nota\n",
        "})\n",
        "\n",
        "# Exibir os primeiros registros\n",
        "print(pagina.head())"
      ],
      "metadata": {
        "id": "4kl1XxdRMRp7"
      },
      "execution_count": null,
      "outputs": []
    },
    {
      "cell_type": "code",
      "source": [
        "pagina.shape"
      ],
      "metadata": {
        "id": "uTWSzVoFMpwy"
      },
      "execution_count": null,
      "outputs": []
    },
    {
      "cell_type": "code",
      "source": [
        "pagina.to_excel('book.xlsx')"
      ],
      "metadata": {
        "id": "m15NncfPNf6L"
      },
      "execution_count": null,
      "outputs": []
    },
    {
      "cell_type": "code",
      "source": [
        "import pandas as pd\n",
        "import seaborn as sns\n",
        "import matplotlib.pyplot as plt"
      ],
      "metadata": {
        "id": "8MmHl-O2Q1e9"
      },
      "execution_count": null,
      "outputs": []
    },
    {
      "cell_type": "code",
      "source": [
        "df = pd.read_excel('/content/book.xlsx')"
      ],
      "metadata": {
        "id": "NQ9DOy1ZQ8id"
      },
      "execution_count": null,
      "outputs": []
    },
    {
      "cell_type": "code",
      "source": [
        "#Tratamento e limpeza de dados\n",
        "#Tratamento e limpeza de dados\n",
        "#limpeza de dados\n",
        "#1. converter a coluna \"PRECO\" de string para float\n",
        "df['Preço'] = df['Preço'].str.replace('£', '', regex=True).replace('[Â]', ' ', regex=True).astype(float)\n",
        "\n",
        "#2 Converter a coluna \"NOT\" DE TEXTO PARA VALORES NUMERICOS\n",
        "nota_mapa = {'um': 1, 'dois': 2, 'três': 3, 'quatro': 4, 'cinco': 5}\n",
        "df['Nota'] = df['Nota'].map(nota_mapa)\n"
      ],
      "metadata": {
        "id": "3ZXb9mFaRG6t"
      },
      "execution_count": null,
      "outputs": []
    },
    {
      "cell_type": "code",
      "source": [
        "df"
      ],
      "metadata": {
        "id": "_9UTsxWdZObC"
      },
      "execution_count": null,
      "outputs": []
    },
    {
      "cell_type": "code",
      "source": [
        "#Analise estatiscicas com PANDAS\n",
        "#Media, mediana, e desvio padrão\n",
        "media_preco = df['Preço'].mean()\n",
        "mediana_preco = df['Preço'].median()\n",
        "desvio_preco = df['Preço'].std()\n",
        "\n",
        "#Preço medio por nota\n",
        "media_preco_por_nota = df.groupby('Nota')['Preço'].mean()\n",
        "\n",
        "#Resultados Estatisticos\n",
        "print('Média dos preços: £{:.2f}' .format(media_preco))\n",
        "print('Mediana dos preços: £{:.2f}' .format(mediana_preco))\n",
        "print('Desvio padrão dos preços: £{:.2f}' .format(desvio_preco))\n",
        "print('\\nPreço médio por nota:')\n",
        "print(media_preco_por_nota)\n"
      ],
      "metadata": {
        "id": "_n-1mKB8al8Z"
      },
      "execution_count": null,
      "outputs": []
    },
    {
      "cell_type": "code",
      "source": [
        "import pandas as pd\n",
        "import matplotlib.pyplot as plt\n",
        "\n",
        "# Suponha que seu DataFrame seja chamado 'df' e a coluna de preços seja 'Preço'\n",
        "\n",
        "# 1. Criar o histograma\n",
        "plt.figure(figsize=(8, 5))  # Define o tamanho da figura\n",
        "sns.boxplot(x='Nota', y='Preço', data=df, palette='viridis')  # Define a paleta de cores\n",
        "plt.title('Distribuição de Preços por Nota')\n",
        "plt.xlabel('Nota')\n",
        "plt.ylabel('Preço')\n",
        "plt.show()"
      ],
      "metadata": {
        "id": "KPjQ3YOXhQfV"
      },
      "execution_count": null,
      "outputs": []
    }
  ]
}